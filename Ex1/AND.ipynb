{
 "cells": [
  {
   "cell_type": "code",
   "execution_count": 1,
   "metadata": {},
   "outputs": [],
   "source": [
    "\n",
    "import numpy as np\n",
    "import torch"
   ]
  },
  {
   "cell_type": "code",
   "execution_count": 2,
   "metadata": {},
   "outputs": [],
   "source": [
    "def activation(out,threshold):\n",
    "    if out>threshold:\n",
    "        return 1\n",
    "    else:\n",
    "        return -1"
   ]
  },
  {
   "cell_type": "code",
   "execution_count": 3,
   "metadata": {},
   "outputs": [],
   "source": [
    "def perceptron(and_input):\n",
    "    a = torch.tensor([-1,-1,1,1], dtype = torch.float64)\n",
    "    b= torch.tensor([-1,1,-1,1], dtype = torch.float64)\n",
    "    y= torch.tensor([-1,-1,-1,1], dtype = torch.float64)\n",
    "    w= torch.tensor([0.1,0.1], dtype = torch.float64)\n",
    "    threshold=1\n",
    "    learning_rate = 0.5\n",
    "    i=0\n",
    "    print(\"Perceptron Training:\")\n",
    "    for i in range(4):\n",
    "        summation=a[i]*w[0]+b[i]*w[1]\n",
    "        o=activation(summation,threshold)\n",
    "        print(\"Input:\"+str(a[i])+\",\"+str(b[i]))\n",
    "        print(\"Weights:\"+str(w[0])+\",\"+str(w[1]))\n",
    "        print(\"summation:\"+str(summation)+\"\\n\"+\"threshold\"+\" \"+str(threshold))\n",
    "        print(\"Actual Output:\"+str(y[i])+\"Predicted Output\"+str(o))\n",
    "        if(o!=y[i]):\n",
    "            print(\"__________\\n Updating Weights\")\n",
    "            w[0]=w[0]+learning_rate*(y[i]-0)*a[i]\n",
    "            w[1]=w[1]+learning_rate*(y[i]-0)*b[i]\n",
    "            print(\"Updated Weights:\"+str(w[0])+\",\"+str(w[1]))\n",
    "        i=i+1\n",
    "    summation=and_input[0]*w[0]+and_input[1]*w[1]   \n",
    "\n",
    "\n"
   ]
  },
  {
   "cell_type": "code",
   "execution_count": 4,
   "metadata": {},
   "outputs": [
    {
     "name": "stdout",
     "output_type": "stream",
     "text": [
      "Perceptron Training:\n",
      "Input:tensor(-1., dtype=torch.float64),tensor(-1., dtype=torch.float64)\n",
      "Weights:tensor(0.1000, dtype=torch.float64),tensor(0.1000, dtype=torch.float64)\n",
      "summation:tensor(-0.2000, dtype=torch.float64)\n",
      "threshold 1\n",
      "Actual Output:tensor(-1., dtype=torch.float64)Predicted Output-1\n",
      "Input:tensor(-1., dtype=torch.float64),tensor(1., dtype=torch.float64)\n",
      "Weights:tensor(0.1000, dtype=torch.float64),tensor(0.1000, dtype=torch.float64)\n",
      "summation:tensor(0., dtype=torch.float64)\n",
      "threshold 1\n",
      "Actual Output:tensor(-1., dtype=torch.float64)Predicted Output-1\n",
      "Input:tensor(1., dtype=torch.float64),tensor(-1., dtype=torch.float64)\n",
      "Weights:tensor(0.1000, dtype=torch.float64),tensor(0.1000, dtype=torch.float64)\n",
      "summation:tensor(0., dtype=torch.float64)\n",
      "threshold 1\n",
      "Actual Output:tensor(-1., dtype=torch.float64)Predicted Output-1\n",
      "Input:tensor(1., dtype=torch.float64),tensor(1., dtype=torch.float64)\n",
      "Weights:tensor(0.1000, dtype=torch.float64),tensor(0.1000, dtype=torch.float64)\n",
      "summation:tensor(0.2000, dtype=torch.float64)\n",
      "threshold 1\n",
      "Actual Output:tensor(1., dtype=torch.float64)Predicted Output-1\n",
      "__________\n",
      " Updating Weights\n",
      "Updated Weights:tensor(0.6000, dtype=torch.float64),tensor(0.6000, dtype=torch.float64)\n",
      "AND GATE OUTPUT FORtensor([-1.,  1.], dtype=torch.float64):None\n"
     ]
    }
   ],
   "source": [
    "and_input=  torch.tensor([-1,1], dtype = torch.float64)\n",
    "print(\"AND GATE OUTPUT FOR\"+str(and_input)+\":\"+str(perceptron(and_input)))"
   ]
  }
 ],
 "metadata": {
  "kernelspec": {
   "display_name": "Python 3",
   "language": "python",
   "name": "python3"
  },
  "language_info": {
   "codemirror_mode": {
    "name": "ipython",
    "version": 3
   },
   "file_extension": ".py",
   "mimetype": "text/x-python",
   "name": "python",
   "nbconvert_exporter": "python",
   "pygments_lexer": "ipython3",
   "version": "3.9.13"
  },
  "orig_nbformat": 4,
  "vscode": {
   "interpreter": {
    "hash": "2a23a7b583337357fed044b540a1066814e1a78311dffc5dbb0ee1726d34e86a"
   }
  }
 },
 "nbformat": 4,
 "nbformat_minor": 2
}
