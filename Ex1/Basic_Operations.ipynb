{
 "cells": [
  {
   "cell_type": "code",
   "execution_count": 1,
   "metadata": {},
   "outputs": [
    {
     "name": "stdout",
     "output_type": "stream",
     "text": [
      "False\n"
     ]
    }
   ],
   "source": [
    "import torch\n",
    "gpu = torch.cuda.is_available()\n",
    "print(gpu)"
   ]
  },
  {
   "cell_type": "code",
   "execution_count": 2,
   "metadata": {},
   "outputs": [
    {
     "name": "stdout",
     "output_type": "stream",
     "text": [
      "tensor([1., 2., 3.], dtype=torch.float64)\n",
      "tensor([4., 5., 6.], dtype=torch.float64)\n"
     ]
    }
   ],
   "source": [
    "#Creating_Tensor\n",
    "a = torch.tensor([1,2,3], dtype = torch.float64)\n",
    "print(a)\n",
    "b = torch.tensor([4,5,6], dtype = torch.float64)\n",
    "print(b)"
   ]
  },
  {
   "cell_type": "code",
   "execution_count": 3,
   "metadata": {},
   "outputs": [
    {
     "name": "stdout",
     "output_type": "stream",
     "text": [
      "tensor([5., 7., 9.], dtype=torch.float64)\n",
      "tensor([5., 7., 9.], dtype=torch.float64)\n",
      "tensor([5., 7., 9.], dtype=torch.float64)\n"
     ]
    }
   ],
   "source": [
    "#Addition\n",
    "print(a+b)\n",
    "print(torch.add(a,b))\n",
    "print(a.add(b))"
   ]
  },
  {
   "cell_type": "code",
   "execution_count": 4,
   "metadata": {},
   "outputs": [
    {
     "data": {
      "text/plain": [
       "tensor([ 8.,  9., 10.], dtype=torch.float64)"
      ]
     },
     "execution_count": 4,
     "metadata": {},
     "output_type": "execute_result"
    }
   ],
   "source": [
    "#Inplace_Addition\n",
    "a.add_(7)"
   ]
  },
  {
   "cell_type": "code",
   "execution_count": 5,
   "metadata": {},
   "outputs": [
    {
     "name": "stdout",
     "output_type": "stream",
     "text": [
      "tensor([32., 45., 60.], dtype=torch.float64)\n",
      "tensor([32., 45., 60.], dtype=torch.float64)\n"
     ]
    }
   ],
   "source": [
    "#Multiplication\n",
    "print(a*b)\n",
    "print(a.mul(b))"
   ]
  },
  {
   "cell_type": "code",
   "execution_count": 6,
   "metadata": {},
   "outputs": [
    {
     "name": "stdout",
     "output_type": "stream",
     "text": [
      "tensor(137., dtype=torch.float64)\n"
     ]
    }
   ],
   "source": [
    "#MatrixMultiplication\n",
    "print(a.matmul(b))"
   ]
  },
  {
   "cell_type": "code",
   "execution_count": 7,
   "metadata": {},
   "outputs": [
    {
     "data": {
      "text/plain": [
       "tensor(42., dtype=torch.float64)"
      ]
     },
     "execution_count": 7,
     "metadata": {},
     "output_type": "execute_result"
    }
   ],
   "source": [
    "torch.add(a,b).sum()"
   ]
  },
  {
   "cell_type": "code",
   "execution_count": 8,
   "metadata": {},
   "outputs": [
    {
     "data": {
      "text/plain": [
       "tensor(137., dtype=torch.float64)"
      ]
     },
     "execution_count": 8,
     "metadata": {},
     "output_type": "execute_result"
    }
   ],
   "source": [
    "#DotMultiplication\n",
    "a.dot(b)"
   ]
  },
  {
   "cell_type": "code",
   "execution_count": 9,
   "metadata": {},
   "outputs": [
    {
     "name": "stdout",
     "output_type": "stream",
     "text": [
      "tensor([[0, 0, 0],\n",
      "        [0, 0, 0]])\n",
      "tensor([[1, 1, 1],\n",
      "        [1, 1, 1]])\n"
     ]
    }
   ],
   "source": [
    "z = torch.zeros(2,3,dtype=int)\n",
    "print(z)\n",
    "o = torch.ones(2,3,dtype=int)\n",
    "print(o)"
   ]
  },
  {
   "cell_type": "code",
   "execution_count": 10,
   "metadata": {},
   "outputs": [
    {
     "name": "stdout",
     "output_type": "stream",
     "text": [
      "Tensor:  tensor([1, 2, 3, 4, 5, 6])\n",
      "DataType:  torch.int64\n",
      "Size:  torch.Size([6])\n",
      "Dimension:  1\n"
     ]
    }
   ],
   "source": [
    "k = torch.tensor([1,2,3,4,5,6])\n",
    "print(\"Tensor: \",k)\n",
    "print(\"DataType: \",k.dtype)\n",
    "print(\"Size: \",k.size())\n",
    "print(\"Dimension: \",k.dim())"
   ]
  },
  {
   "cell_type": "code",
   "execution_count": 11,
   "metadata": {},
   "outputs": [
    {
     "name": "stdout",
     "output_type": "stream",
     "text": [
      "tensor(1)\n",
      "tensor(5)\n",
      "tensor([1, 2, 3])\n"
     ]
    }
   ],
   "source": [
    "print(k[0])\n",
    "print(k[4])\n",
    "print(k[0:3])"
   ]
  },
  {
   "cell_type": "code",
   "execution_count": 12,
   "metadata": {},
   "outputs": [
    {
     "name": "stdout",
     "output_type": "stream",
     "text": [
      "Ascending:  torch.return_types.sort(\n",
      "values=tensor([ 1,  2,  3,  4,  6,  7,  9, 10]),\n",
      "indices=tensor([5, 4, 2, 1, 3, 6, 7, 0]))\n",
      "Descending:  torch.return_types.sort(\n",
      "values=tensor([10,  9,  7,  6,  4,  3,  2,  1]),\n",
      "indices=tensor([0, 7, 6, 3, 1, 2, 4, 5]))\n"
     ]
    }
   ],
   "source": [
    "#Sort\n",
    "arr = torch.tensor([10,4,3,6,2,1,7,9])\n",
    "print(\"Ascending: \",torch.sort(arr))\n",
    "print(\"Descending: \",torch.sort(arr, descending=True))"
   ]
  },
  {
   "cell_type": "code",
   "execution_count": 13,
   "metadata": {},
   "outputs": [
    {
     "name": "stdout",
     "output_type": "stream",
     "text": [
      "tensor([0, 1, 2, 3, 4, 5, 6, 7, 8])\n",
      "tensor([[0, 1, 2],\n",
      "        [3, 4, 5],\n",
      "        [6, 7, 8]])\n",
      "tensor([0, 1, 2, 3, 4, 5, 6, 7])\n",
      "tensor([[[0, 1],\n",
      "         [2, 3]],\n",
      "\n",
      "        [[4, 5],\n",
      "         [6, 7]]])\n"
     ]
    }
   ],
   "source": [
    "#Changing_View_of_Tensor\n",
    "m = torch.arange(0,9)\n",
    "n = m.view(3,3)\n",
    "print(m)\n",
    "print(n)\n",
    "o = torch.arange(8)\n",
    "p = o.view(2,2,2)\n",
    "print(o)\n",
    "print(p)"
   ]
  }
 ],
 "metadata": {
  "kernelspec": {
   "display_name": "Python 3",
   "language": "python",
   "name": "python3"
  },
  "language_info": {
   "codemirror_mode": {
    "name": "ipython",
    "version": 3
   },
   "file_extension": ".py",
   "mimetype": "text/x-python",
   "name": "python",
   "nbconvert_exporter": "python",
   "pygments_lexer": "ipython3",
   "version": "3.9.13"
  },
  "orig_nbformat": 4,
  "vscode": {
   "interpreter": {
    "hash": "2a23a7b583337357fed044b540a1066814e1a78311dffc5dbb0ee1726d34e86a"
   }
  }
 },
 "nbformat": 4,
 "nbformat_minor": 2
}
