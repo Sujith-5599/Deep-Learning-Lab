{
 "cells": [
  {
   "cell_type": "code",
   "execution_count": 1,
   "metadata": {},
   "outputs": [],
   "source": [
    "# Implementing KSOM\n",
    "\n",
    "import torch\n",
    "import numpy as np"
   ]
  },
  {
   "cell_type": "code",
   "execution_count": 8,
   "metadata": {},
   "outputs": [],
   "source": [
    "class KSOM():\n",
    "\n",
    "    def __init__(self):\n",
    "\n",
    "        self.in_dim1 = int(input(\"Enter The No of Rows In The Input Data\\n\"))\n",
    "        self.in_dim2 = int(input(\"Enter The No of Columns In The Input Data\\n\"))\n",
    "        self.wt_dim1 = int(input(\"Enter The No of Rows In The Weight Data\\n\"))\n",
    "        self.wt_dim2 = int(input(\"Enter The No of Columns In The Weight Data\\n\"))\n",
    "        self.alpha = float(input(\"Enter The Value Of Alpha\\n\"))\n",
    "\n",
    "        self.input_data = [[0 for x in range(self.in_dim1)] for y in range(self.in_dim2)]\n",
    "        self.wt_data = [[0 for x in range(self.wt_dim1)] for y in range(self.wt_dim2)]\n",
    "\n",
    "        for i in range(self.in_dim2):\n",
    "            for j in range(self.in_dim1):\n",
    "                data = float(input(\"Enter The Input Data\\n\"))\n",
    "                self.input_data[i][j] = data\n",
    "\n",
    "\n",
    "        for i in range(self.wt_dim2):\n",
    "            for j in range(self.wt_dim1):\n",
    "                data = float(input(\"Enter The Weight Data\\n\"))\n",
    "                self.wt_data[i][j] = data\n",
    "\n",
    "        self.input_data = torch.as_tensor(self.input_data)\n",
    "\n",
    "        self.wt_data = torch.as_tensor(self.wt_data)\n",
    "\n",
    "\n",
    "        self.epochs=0\n",
    "\n",
    "\n",
    "    def check(self):\n",
    "\n",
    "        while(self.epochs!=1):\n",
    "      \n",
    "            for i in range(self.wt_dim1):\n",
    "\n",
    "                dist = [0 for x in range(self.wt_dim2)]\n",
    "                \n",
    "                for j in range(self.wt_dim2):\n",
    "\n",
    "                    for l in range(self.in_dim1):\n",
    "                        dist[j] = dist[j]+(self.input_data[i][l]-self.wt_data[j][l])**2\n",
    "\n",
    "                print(dist)\n",
    "\n",
    "                min_dist = min(dist)\n",
    "                index = dist.index(min_dist)\n",
    "\n",
    "                for o in range(self.wt_dim1):\n",
    "                    self.wt_data[index][o] = self.wt_data[index][o] + self.alpha*(self.input_data[i][o]-self.wt_data[index][o])\n",
    "\n",
    "            self.epochs = self.epochs+1\n",
    "            self.alpha = 0.5*self.alpha\n",
    "\n",
    "\n",
    "\n"
   ]
  },
  {
   "cell_type": "code",
   "execution_count": 9,
   "metadata": {},
   "outputs": [
    {
     "name": "stdout",
     "output_type": "stream",
     "text": [
      "[tensor(0.4000), tensor(0.4000), tensor(2.0400), tensor(2.0400)]\n",
      "[tensor(2.3000), tensor(1.8000), tensor(0.8400), tensor(0.8400)]\n",
      "[tensor(1.5000), tensor(1.2000), tensor(2.1100), tensor(1.2400)]\n",
      "[tensor(0.7000), tensor(1.5000), tensor(1.6100), tensor(2.0400)]\n"
     ]
    }
   ],
   "source": [
    "k = KSOM()\n",
    "k.check()"
   ]
  }
 ],
 "metadata": {
  "kernelspec": {
   "display_name": "Python 3",
   "language": "python",
   "name": "python3"
  },
  "language_info": {
   "codemirror_mode": {
    "name": "ipython",
    "version": 3
   },
   "file_extension": ".py",
   "mimetype": "text/x-python",
   "name": "python",
   "nbconvert_exporter": "python",
   "pygments_lexer": "ipython3",
   "version": "3.10.9"
  },
  "orig_nbformat": 4,
  "vscode": {
   "interpreter": {
    "hash": "618f2e2b772838f75e5c01a97852e682d6b539044a384bb98febe15f1dfd79d8"
   }
  }
 },
 "nbformat": 4,
 "nbformat_minor": 2
}
