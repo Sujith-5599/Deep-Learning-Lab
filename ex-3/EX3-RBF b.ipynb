{
 "cells": [
  {
   "cell_type": "code",
   "execution_count": 1,
   "id": "ec142519-66fa-48f9-b14f-1a8e0555533c",
   "metadata": {},
   "outputs": [],
   "source": [
    "import tensorflow as tf\n",
    "from tensorflow import keras\n",
    "from tensorflow.keras.layers import Dense\n",
    "import warnings\n",
    "warnings.filterwarnings('ignore')\n",
    "class RBFLayer(keras.layers.Layer):\n",
    "    def __init__(self,hidden_dim,s):\n",
    "        super(RBFLayer, self).__init__()\n",
    "        self.hidden_dim = hidden_dim\n",
    "        self.s = s\n",
    "        self.centers = self.add_weight(name='centers',\n",
    "                                       shape=(self.hidden_dim,10),\n",
    "                                       initializer='uniform',\n",
    "                                       trainable=True)\n",
    "    def formula(self,x,y):\n",
    "        return torch.exp(-self.s * (x - y).pow(2).sum(dim=1))\n",
    "\n",
    "    def forward(self,x):\n",
    "        a = self.formula(x, self.centers)\n",
    "        return a"
   ]
  },
  {
   "cell_type": "code",
   "execution_count": 4,
   "id": "7049e7e6-2afe-450a-9586-9aaa1e5520aa",
   "metadata": {},
   "outputs": [
    {
     "name": "stdout",
     "output_type": "stream",
     "text": [
      "Epoch 1/10\n",
      "4/4 [==============================] - 4s 6ms/step - loss: 1.0312\n",
      "Epoch 2/10\n",
      "4/4 [==============================] - 0s 12ms/step - loss: 1.0160\n",
      "Epoch 3/10\n",
      "4/4 [==============================] - 0s 7ms/step - loss: 1.0001\n",
      "Epoch 4/10\n",
      "4/4 [==============================] - 0s 6ms/step - loss: 0.9850\n",
      "Epoch 5/10\n",
      "4/4 [==============================] - 0s 7ms/step - loss: 0.9694\n",
      "Epoch 6/10\n",
      "4/4 [==============================] - 0s 6ms/step - loss: 0.9548\n",
      "Epoch 7/10\n",
      "4/4 [==============================] - 0s 18ms/step - loss: 0.9409\n",
      "Epoch 8/10\n",
      "4/4 [==============================] - 0s 6ms/step - loss: 0.9267\n",
      "Epoch 9/10\n",
      "4/4 [==============================] - 0s 19ms/step - loss: 0.9142\n",
      "Epoch 10/10\n",
      "4/4 [==============================] - 0s 5ms/step - loss: 0.9007\n"
     ]
    },
    {
     "data": {
      "text/plain": [
       "<keras.callbacks.History at 0x2520750e4d0>"
      ]
     },
     "execution_count": 4,
     "metadata": {},
     "output_type": "execute_result"
    }
   ],
   "source": [
    "model = keras.Sequential([\n",
    "    Dense(10, input_shape=(2,), activation='relu'),\n",
    "    RBFLayer(10,0.02),\n",
    "    Dense(1, activation='sigmoid')\n",
    "])\n",
    "\n",
    "model.compile(loss='binary_crossentropy', optimizer='adam')\n",
    "\n",
    "import numpy as np\n",
    "X = np.random.randn(100, 2)\n",
    "y = (X[:, 0] * X[:, 1] > 0).astype(float)\n",
    "\n",
    "model.fit(X, y, epochs=10, batch_size=32)\n"
   ]
  },
  {
   "cell_type": "code",
   "execution_count": 5,
   "id": "257e0489-13ca-4404-b63a-0cea5aee579b",
   "metadata": {},
   "outputs": [
    {
     "name": "stdout",
     "output_type": "stream",
     "text": [
      "Epoch 1/10\n",
      "4/4 [==============================] - 2s 7ms/step - loss: 0.6933\n",
      "Epoch 2/10\n",
      "4/4 [==============================] - 0s 9ms/step - loss: 0.6926\n",
      "Epoch 3/10\n",
      "4/4 [==============================] - 0s 6ms/step - loss: 0.6921\n",
      "Epoch 4/10\n",
      "4/4 [==============================] - 0s 7ms/step - loss: 0.6916\n",
      "Epoch 5/10\n",
      "4/4 [==============================] - 0s 5ms/step - loss: 0.6913\n",
      "Epoch 6/10\n",
      "4/4 [==============================] - 0s 5ms/step - loss: 0.6913\n",
      "Epoch 7/10\n",
      "4/4 [==============================] - 0s 6ms/step - loss: 0.6910\n",
      "Epoch 8/10\n",
      "4/4 [==============================] - 0s 5ms/step - loss: 0.6906\n",
      "Epoch 9/10\n",
      "4/4 [==============================] - 0s 7ms/step - loss: 0.6902\n",
      "Epoch 10/10\n",
      "4/4 [==============================] - 0s 8ms/step - loss: 0.6900\n"
     ]
    },
    {
     "data": {
      "text/plain": [
       "<keras.callbacks.History at 0x252073a1b10>"
      ]
     },
     "execution_count": 5,
     "metadata": {},
     "output_type": "execute_result"
    }
   ],
   "source": [
    "import tensorflow as tf\n",
    "from tensorflow import keras\n",
    "from tensorflow.keras.layers import Dense\n",
    "\n",
    "# Define the RBF layer\n",
    "class RBFLayer(keras.layers.Layer):\n",
    "    def __init__(self, units, gamma, **kwargs):\n",
    "        super(RBFLayer, self).__init__(**kwargs)\n",
    "        self.units = units\n",
    "        self.gamma = gamma\n",
    "\n",
    "    def build(self, input_shape):\n",
    "        self.centers = self.add_weight(name='centers',\n",
    "                                       shape=(self.units, input_shape[1]),\n",
    "                                       initializer='uniform',\n",
    "                                       trainable=True)\n",
    "        super(RBFLayer, self).build(input_shape)\n",
    "\n",
    "    def call(self, inputs):\n",
    "        diff = tf.expand_dims(inputs, axis=1) - self.centers\n",
    "        squared_diff = tf.reduce_sum(tf.square(diff), axis=-1)\n",
    "        return tf.exp(-self.gamma * squared_diff)\n",
    "\n",
    "# Build the model with the RBF layer\n",
    "model = keras.Sequential([\n",
    "    Dense(10, input_shape=(2,), activation='relu'),\n",
    "    RBFLayer(10, gamma=0.1),\n",
    "    Dense(1, activation='sigmoid')\n",
    "])\n",
    "\n",
    "# Compile the model with binary cross-entropy loss and Adam optimizer\n",
    "model.compile(loss='binary_crossentropy', optimizer='adam')\n",
    "\n",
    "# Generate some sample data\n",
    "import numpy as np\n",
    "X = np.random.randn(100, 2)\n",
    "y = (X[:, 0] * X[:, 1] > 0).astype(float)\n",
    "# Train the model\n",
    "model.fit(X, y, epochs=10, batch_size=32)\n"
   ]
  },
  {
   "cell_type": "code",
   "execution_count": null,
   "id": "a2e19e27-d9bc-44f7-a652-ce4aa0e9c74b",
   "metadata": {},
   "outputs": [],
   "source": []
  }
 ],
 "metadata": {
  "kernelspec": {
   "display_name": "Python 3 (ipykernel)",
   "language": "python",
   "name": "python3"
  },
  "language_info": {
   "codemirror_mode": {
    "name": "ipython",
    "version": 3
   },
   "file_extension": ".py",
   "mimetype": "text/x-python",
   "name": "python",
   "nbconvert_exporter": "python",
   "pygments_lexer": "ipython3",
   "version": "3.10.9"
  }
 },
 "nbformat": 4,
 "nbformat_minor": 5
}
