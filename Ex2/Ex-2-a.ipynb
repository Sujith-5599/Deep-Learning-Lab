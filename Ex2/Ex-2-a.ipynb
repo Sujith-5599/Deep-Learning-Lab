{
 "cells": [
  {
   "cell_type": "code",
   "execution_count": 1,
   "metadata": {},
   "outputs": [],
   "source": [
    "import torch"
   ]
  },
  {
   "cell_type": "code",
   "execution_count": 2,
   "metadata": {},
   "outputs": [],
   "source": [
    "def forward(x):\n",
    "    return w*x\n",
    "def loss(y, y_pred):\n",
    "\treturn ((y_pred - y)**2).mean()\n",
    "def find_y(x):\n",
    "    y = 8*x + 7*(x**3) + 2\n",
    "    return y"
   ]
  },
  {
   "cell_type": "code",
   "execution_count": 3,
   "metadata": {},
   "outputs": [],
   "source": [
    "#y=8x+7x^3+2\n",
    "x = torch.tensor([1,2,3,4], dtype=torch.float64,requires_grad=True)\n",
    "Y=[]\n",
    "for i in x:\n",
    "    Y.append(find_y(i))\n",
    "    "
   ]
  },
  {
   "cell_type": "code",
   "execution_count": 4,
   "metadata": {},
   "outputs": [
    {
     "data": {
      "text/plain": [
       "tensor([ 17.,  74., 215., 482.])"
      ]
     },
     "execution_count": 4,
     "metadata": {},
     "output_type": "execute_result"
    }
   ],
   "source": [
    "y=torch.tensor(Y,dtype=torch.float32,requires_grad=False)\n",
    "y"
   ]
  },
  {
   "cell_type": "code",
   "execution_count": 5,
   "metadata": {},
   "outputs": [
    {
     "data": {
      "text/plain": [
       "tensor(0., requires_grad=True)"
      ]
     },
     "execution_count": 5,
     "metadata": {},
     "output_type": "execute_result"
    }
   ],
   "source": [
    "w = torch.tensor(0.0, dtype=torch.float32, requires_grad=True)\n",
    "w"
   ]
  },
  {
   "cell_type": "code",
   "execution_count": 6,
   "metadata": {},
   "outputs": [
    {
     "name": "stdout",
     "output_type": "stream",
     "text": [
      "Prediction before training: f(5) = 0.000\n"
     ]
    }
   ],
   "source": [
    "print(f'Prediction before training: f(5) = {forward(5).item():.3f}')"
   ]
  },
  {
   "cell_type": "code",
   "execution_count": 7,
   "metadata": {},
   "outputs": [],
   "source": [
    "lr = 0.1\n",
    "n=100"
   ]
  },
  {
   "cell_type": "code",
   "execution_count": 8,
   "metadata": {},
   "outputs": [
    {
     "name": "stdout",
     "output_type": "stream",
     "text": [
      "Epoch 1: W = 136.90, Loss = 71078.50\n",
      "Epoch 11: W = 91.31, Loss = 8606.53\n",
      "Epoch 21: W = 91.27, Loss = 8606.47\n",
      "Epoch 31: W = 91.27, Loss = 8606.47\n",
      "Epoch 41: W = 91.27, Loss = 8606.47\n",
      "Epoch 51: W = 91.27, Loss = 8606.47\n",
      "Epoch 61: W = 91.27, Loss = 8606.47\n",
      "Epoch 71: W = 91.27, Loss = 8606.47\n",
      "Epoch 81: W = 91.27, Loss = 8606.47\n",
      "Epoch 91: W = 91.27, Loss = 8606.47\n"
     ]
    }
   ],
   "source": [
    "iterloss=[]\n",
    "for epoch in range(n):\n",
    "    y_pred = forward(x)\n",
    "    l = loss( y, y_pred)\n",
    "    l.backward()\n",
    "\n",
    "    with torch.no_grad():\n",
    "        w -= (lr * w.grad)\n",
    "    w.grad.zero_()\n",
    "    iterloss.append(l.item())\n",
    "    if epoch % 10 == 0:\n",
    "        print(f'Epoch {epoch+1}: W = {w.item():.2f}, Loss = {l.item():.2f}')"
   ]
  },
  {
   "cell_type": "code",
   "execution_count": 9,
   "metadata": {},
   "outputs": [
    {
     "name": "stdout",
     "output_type": "stream",
     "text": [
      "Prediction after training: f(5) = 456.333\n"
     ]
    }
   ],
   "source": [
    "print(f'Prediction after training: f(5) = {forward(5).item():.3f}')"
   ]
  }
 ],
 "metadata": {
  "kernelspec": {
   "display_name": "Python 3",
   "language": "python",
   "name": "python3"
  },
  "language_info": {
   "codemirror_mode": {
    "name": "ipython",
    "version": 3
   },
   "file_extension": ".py",
   "mimetype": "text/x-python",
   "name": "python",
   "nbconvert_exporter": "python",
   "pygments_lexer": "ipython3",
   "version": "3.9.13"
  },
  "orig_nbformat": 4,
  "vscode": {
   "interpreter": {
    "hash": "2a23a7b583337357fed044b540a1066814e1a78311dffc5dbb0ee1726d34e86a"
   }
  }
 },
 "nbformat": 4,
 "nbformat_minor": 2
}
