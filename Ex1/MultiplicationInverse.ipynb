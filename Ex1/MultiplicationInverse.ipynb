{
 "cells": [
  {
   "cell_type": "code",
   "execution_count": 1,
   "id": "ac858d8b",
   "metadata": {},
   "outputs": [],
   "source": [
    "import torch"
   ]
  },
  {
   "cell_type": "code",
   "execution_count": 12,
   "id": "91269a84",
   "metadata": {},
   "outputs": [
    {
     "data": {
      "text/plain": [
       "tensor([[3, 1, 4],\n",
       "        [2, 1, 2],\n",
       "        [2, 4, 1]], dtype=torch.int32)"
      ]
     },
     "execution_count": 12,
     "metadata": {},
     "output_type": "execute_result"
    }
   ],
   "source": [
    "a=[[3,1,4],[2,1,2],[2,4,1]]\n",
    "a=torch.tensor(a,dtype=torch.int) #multi-dimensional matrix containing elements of a single data type\n",
    "a"
   ]
  },
  {
   "cell_type": "code",
   "execution_count": 13,
   "id": "779c321f",
   "metadata": {},
   "outputs": [
    {
     "data": {
      "text/plain": [
       "tensor([[3, 2, 3],\n",
       "        [3, 5, 6],\n",
       "        [7, 8, 5]], dtype=torch.int32)"
      ]
     },
     "execution_count": 13,
     "metadata": {},
     "output_type": "execute_result"
    }
   ],
   "source": [
    "b=[[3,2,3],[3,5,6],[7,8,5]]\n",
    "b=torch.tensor(b,dtype=torch.int)\n",
    "b"
   ]
  },
  {
   "cell_type": "code",
   "execution_count": 14,
   "id": "ca78b171",
   "metadata": {},
   "outputs": [
    {
     "data": {
      "text/plain": [
       "tensor([[0, 0, 0],\n",
       "        [0, 0, 0],\n",
       "        [0, 0, 0]], dtype=torch.int32)"
      ]
     },
     "execution_count": 14,
     "metadata": {},
     "output_type": "execute_result"
    }
   ],
   "source": [
    "r=[[0,0,0],[0,0,0],[0,0,0]]\n",
    "r=torch.tensor(r,dtype=torch.int)\n",
    "r"
   ]
  },
  {
   "cell_type": "code",
   "execution_count": 15,
   "id": "f825b87a",
   "metadata": {},
   "outputs": [],
   "source": [
    "for i in range(len(a)):\n",
    "    for j in range (len(b[0])):\n",
    "        for k in range (len(b)):\n",
    "            r[i][j]+= a[i][k]*b[k][j]"
   ]
  },
  {
   "cell_type": "code",
   "execution_count": 16,
   "id": "56511c1f",
   "metadata": {},
   "outputs": [
    {
     "data": {
      "text/plain": [
       "tensor([[40, 43, 35],\n",
       "        [23, 25, 22],\n",
       "        [25, 32, 35]], dtype=torch.int32)"
      ]
     },
     "execution_count": 16,
     "metadata": {},
     "output_type": "execute_result"
    }
   ],
   "source": [
    "r"
   ]
  },
  {
   "cell_type": "markdown",
   "id": "4a00cfd3",
   "metadata": {},
   "source": [
    "inverse of matrix"
   ]
  },
  {
   "cell_type": "code",
   "execution_count": 7,
   "id": "e3d88128",
   "metadata": {},
   "outputs": [
    {
     "data": {
      "text/plain": [
       "3"
      ]
     },
     "execution_count": 7,
     "metadata": {},
     "output_type": "execute_result"
    }
   ],
   "source": [
    "A=[[1,0,1],[0,1,1],[1,1,1]]\n",
    "A=torch.tensor(A,dtype=torch.int)\n",
    "A\n",
    "f,h=A.shape\n",
    "f"
   ]
  },
  {
   "cell_type": "code",
   "execution_count": 8,
   "id": "1d8f7051",
   "metadata": {},
   "outputs": [
    {
     "data": {
      "text/plain": [
       "tensor([[1, 0, 0],\n",
       "        [0, 1, 0],\n",
       "        [0, 0, 1]], dtype=torch.int32)"
      ]
     },
     "execution_count": 8,
     "metadata": {},
     "output_type": "execute_result"
    }
   ],
   "source": [
    "import numpy as np\n",
    "I = np.identity(n=f)\n",
    "I=torch.tensor(I,dtype=torch.int)\n",
    "I"
   ]
  },
  {
   "cell_type": "code",
   "execution_count": 9,
   "id": "4998eb24",
   "metadata": {},
   "outputs": [
    {
     "data": {
      "text/plain": [
       "tensor([[1, 0, 1, 1, 0, 0],\n",
       "        [0, 1, 1, 0, 1, 0],\n",
       "        [1, 1, 1, 0, 0, 1]], dtype=torch.int32)"
      ]
     },
     "execution_count": 9,
     "metadata": {},
     "output_type": "execute_result"
    }
   ],
   "source": [
    "M = np.concatenate((A,I),axis=1)\n",
    "M=torch.tensor(M,dtype=torch.int)\n",
    "M"
   ]
  },
  {
   "cell_type": "code",
   "execution_count": 10,
   "id": "4241e1c6",
   "metadata": {},
   "outputs": [],
   "source": [
    "for i in range (0,f):\n",
    "    pivot = M[i][i]\n",
    "    row =M[i]\n",
    "    M[i] = row / pivot\n",
    "    for j in [k for k in range(0,f) if k!=i]:\n",
    "        M[j] = M[j]-M[i]*M[j][i]\n",
    "    inverse = M[:,f:]"
   ]
  },
  {
   "cell_type": "code",
   "execution_count": 11,
   "id": "f6b5a78d",
   "metadata": {},
   "outputs": [
    {
     "data": {
      "text/plain": [
       "tensor([[ 0, -1,  1],\n",
       "        [-1,  0,  1],\n",
       "        [ 1,  1, -1]], dtype=torch.int32)"
      ]
     },
     "execution_count": 11,
     "metadata": {},
     "output_type": "execute_result"
    }
   ],
   "source": [
    "inverse"
   ]
  }
 ],
 "metadata": {
  "kernelspec": {
   "display_name": "Python 3",
   "language": "python",
   "name": "python3"
  },
  "language_info": {
   "codemirror_mode": {
    "name": "ipython",
    "version": 3
   },
   "file_extension": ".py",
   "mimetype": "text/x-python",
   "name": "python",
   "nbconvert_exporter": "python",
   "pygments_lexer": "ipython3",
   "version": "3.10.9"
  },
  "vscode": {
   "interpreter": {
    "hash": "92e31f26d3699c59fa74f43066f3bbb5c14477acc7eaec47e4469fab1ea20e43"
   }
  }
 },
 "nbformat": 4,
 "nbformat_minor": 5
}
