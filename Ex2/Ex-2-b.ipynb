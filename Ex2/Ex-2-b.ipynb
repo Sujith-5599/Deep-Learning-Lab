{
 "cells": [
  {
   "cell_type": "code",
   "execution_count": 1,
   "metadata": {},
   "outputs": [],
   "source": [
    "import torch\n",
    "import torch.nn as nn\n",
    "import torch.optim as optim"
   ]
  },
  {
   "cell_type": "code",
   "execution_count": 2,
   "metadata": {},
   "outputs": [],
   "source": [
    "X = torch.Tensor([[0, 0], [0, 1], [1, 0], [1, 1]])\n",
    "Y = torch.Tensor([[0], [1], [1], [0]])"
   ]
  },
  {
   "cell_type": "code",
   "execution_count": 3,
   "metadata": {},
   "outputs": [],
   "source": [
    "class XORModel(nn.Module):\n",
    "    def __init__(self):\n",
    "        super().__init__()\n",
    "        self.layer1 = nn.Linear(2, 2)\n",
    "        self.layer2 = nn.Linear(2, 1)\n",
    "\n",
    "    def forward(self, X):\n",
    "        X = torch.sigmoid(self.layer1(X))\n",
    "        X = torch.sigmoid(self.layer2(X))\n",
    "        return X"
   ]
  },
  {
   "cell_type": "code",
   "execution_count": 4,
   "metadata": {},
   "outputs": [],
   "source": [
    "model = XORModel()"
   ]
  },
  {
   "cell_type": "code",
   "execution_count": 5,
   "metadata": {},
   "outputs": [],
   "source": [
    "criterion = nn.L1Loss()\n",
    "optimizer = optim.SGD(model.parameters(), lr=0.1)"
   ]
  },
  {
   "cell_type": "code",
   "execution_count": 6,
   "metadata": {},
   "outputs": [
    {
     "name": "stdout",
     "output_type": "stream",
     "text": [
      "Epoch [1000/10000], Loss: 0.4980219006538391\n",
      "Epoch [2000/10000], Loss: 0.490214079618454\n",
      "Epoch [3000/10000], Loss: 0.4583434462547302\n",
      "Epoch [4000/10000], Loss: 0.36541229486465454\n",
      "Epoch [5000/10000], Loss: 0.30233240127563477\n",
      "Epoch [6000/10000], Loss: 0.2798910140991211\n",
      "Epoch [7000/10000], Loss: 0.27018752694129944\n",
      "Epoch [8000/10000], Loss: 0.2650322914123535\n",
      "Epoch [9000/10000], Loss: 0.2618960440158844\n",
      "Epoch [10000/10000], Loss: 0.2598070204257965\n"
     ]
    }
   ],
   "source": [
    "iterloss=[]\n",
    "for epoch in range(10000):\n",
    "    optimizer.zero_grad()\n",
    "    outputs = model(X)\n",
    "    loss = criterion(outputs, Y)\n",
    "    loss.backward()\n",
    "    optimizer.step()\n",
    "    iterloss.append(loss.item())\n",
    "    if (epoch+1) % 1000 == 0:\n",
    "        print(f'Epoch [{epoch+1}/10000], Loss: {loss.item()}')"
   ]
  },
  {
   "cell_type": "code",
   "execution_count": 7,
   "metadata": {},
   "outputs": [
    {
     "name": "stdout",
     "output_type": "stream",
     "text": [
      "Prediction:\n",
      " tensor([[0.0231],\n",
      "        [0.9889],\n",
      "        [0.9870],\n",
      "        [0.9920]])\n"
     ]
    }
   ],
   "source": [
    "with torch.no_grad():\n",
    "    out = model(X)\n",
    "    print(\"Prediction:\\n\",out)"
   ]
  }
 ],
 "metadata": {
  "kernelspec": {
   "display_name": "Python 3",
   "language": "python",
   "name": "python3"
  },
  "language_info": {
   "codemirror_mode": {
    "name": "ipython",
    "version": 3
   },
   "file_extension": ".py",
   "mimetype": "text/x-python",
   "name": "python",
   "nbconvert_exporter": "python",
   "pygments_lexer": "ipython3",
   "version": "3.9.13"
  },
  "orig_nbformat": 4,
  "vscode": {
   "interpreter": {
    "hash": "2a23a7b583337357fed044b540a1066814e1a78311dffc5dbb0ee1726d34e86a"
   }
  }
 },
 "nbformat": 4,
 "nbformat_minor": 2
}
