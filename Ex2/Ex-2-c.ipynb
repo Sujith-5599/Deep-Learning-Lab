{
 "cells": [
  {
   "cell_type": "code",
   "execution_count": 2,
   "metadata": {},
   "outputs": [],
   "source": [
    "from torch.utils.data.dataset import Dataset\n",
    "import torch\n",
    "import numpy as np\n",
    "import pandas as pd"
   ]
  },
  {
   "cell_type": "code",
   "execution_count": 3,
   "metadata": {},
   "outputs": [],
   "source": [
    "class MyDataset(Dataset):\n",
    "\n",
    "    def __init__(self, file_path):\n",
    "        self.df = pd.read_csv(file_path)\n",
    "\n",
    "    def __getitem__(self, index):\n",
    "        sample = self.df.iloc[index]\n",
    "        return sample\n",
    "    def __len__(self):\n",
    "        return len(self.df)"
   ]
  },
  {
   "cell_type": "code",
   "execution_count": 4,
   "metadata": {},
   "outputs": [
    {
     "data": {
      "text/plain": [
       "<__main__.MyDataset at 0x2d4828fdc70>"
      ]
     },
     "execution_count": 4,
     "metadata": {},
     "output_type": "execute_result"
    }
   ],
   "source": [
    "ds = MyDataset(\"treedataset.csv\")\n",
    "data_loader = torch.utils.data.DataLoader(ds, batch_size=32, shuffle=True)\n",
    "ds"
   ]
  },
  {
   "cell_type": "code",
   "execution_count": 5,
   "metadata": {},
   "outputs": [
    {
     "data": {
      "text/plain": [
       "Elevation                             2590\n",
       "Aspect                                  56\n",
       "Slope                                    2\n",
       "Horizontal_Distance_To_Hydrology       212\n",
       "Vertical_Distance_To_Hydrology          -6\n",
       "Horizontal_Distance_To_Roadways        390\n",
       "Hillshade_9am                          220\n",
       "Hillshade_Noon                         235\n",
       "Hillshade_3pm                          151\n",
       "Horizontal_Distance_To_Fire_Points    6225\n",
       "Wilderness_Area1                         1\n",
       "Wilderness_Area2                         0\n",
       "Wilderness_Area3                         0\n",
       "Wilderness_Area4                         0\n",
       "Soil_Type1                               0\n",
       "Soil_Type2                               0\n",
       "Soil_Type3                               0\n",
       "Soil_Type4                               0\n",
       "Soil_Type5                               0\n",
       "Soil_Type6                               0\n",
       "Soil_Type7                               0\n",
       "Soil_Type8                               0\n",
       "Soil_Type9                               0\n",
       "Soil_Type10                              0\n",
       "Soil_Type11                              0\n",
       "Soil_Type12                              0\n",
       "Soil_Type13                              0\n",
       "Soil_Type14                              0\n",
       "Soil_Type15                              0\n",
       "Soil_Type16                              0\n",
       "Soil_Type17                              0\n",
       "Soil_Type18                              0\n",
       "Soil_Type19                              0\n",
       "Soil_Type20                              0\n",
       "Soil_Type21                              0\n",
       "Soil_Type22                              0\n",
       "Soil_Type23                              0\n",
       "Soil_Type24                              0\n",
       "Soil_Type25                              0\n",
       "Soil_Type26                              0\n",
       "Soil_Type27                              0\n",
       "Soil_Type28                              0\n",
       "Soil_Type29                              1\n",
       "Soil_Type30                              0\n",
       "Soil_Type31                              0\n",
       "Soil_Type32                              0\n",
       "Soil_Type33                              0\n",
       "Soil_Type34                              0\n",
       "Soil_Type35                              0\n",
       "Soil_Type36                              0\n",
       "Soil_Type37                              0\n",
       "Soil_Type38                              0\n",
       "Soil_Type39                              0\n",
       "Soil_Type40                              0\n",
       "Cover_Type                               5\n",
       "Name: 1, dtype: int64"
      ]
     },
     "execution_count": 5,
     "metadata": {},
     "output_type": "execute_result"
    }
   ],
   "source": [
    "ds.__getitem__(1)"
   ]
  },
  {
   "cell_type": "code",
   "execution_count": 6,
   "metadata": {},
   "outputs": [
    {
     "data": {
      "text/plain": [
       "581012"
      ]
     },
     "execution_count": 6,
     "metadata": {},
     "output_type": "execute_result"
    }
   ],
   "source": [
    "ds.__len__()"
   ]
  }
 ],
 "metadata": {
  "kernelspec": {
   "display_name": "Python 3",
   "language": "python",
   "name": "python3"
  },
  "language_info": {
   "codemirror_mode": {
    "name": "ipython",
    "version": 3
   },
   "file_extension": ".py",
   "mimetype": "text/x-python",
   "name": "python",
   "nbconvert_exporter": "python",
   "pygments_lexer": "ipython3",
   "version": "3.9.13"
  },
  "orig_nbformat": 4,
  "vscode": {
   "interpreter": {
    "hash": "2a23a7b583337357fed044b540a1066814e1a78311dffc5dbb0ee1726d34e86a"
   }
  }
 },
 "nbformat": 4,
 "nbformat_minor": 2
}
